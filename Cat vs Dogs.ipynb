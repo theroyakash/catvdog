{
  "nbformat": 4,
  "nbformat_minor": 0,
  "metadata": {
    "colab": {
      "name": "Cat vs Dogs",
      "provenance": [],
      "collapsed_sections": []
    },
    "kernelspec": {
      "name": "python3",
      "display_name": "Python 3"
    },
    "accelerator": "GPU"
  },
  "cells": [
    {
      "cell_type": "code",
      "metadata": {
        "id": "P86TtugSkAlW",
        "colab_type": "code",
        "colab": {
          "base_uri": "https://localhost:8080/",
          "height": 224
        },
        "outputId": "b6d8fc3a-70a3-4e1f-d9b2-7d8220bccd8c"
      },
      "source": [
        "!wget https://download.microsoft.com/download/3/E/1/3E1C3F21-ECDB-4869-8368-6DEBA77B919F/kagglecatsanddogs_3367a.zip"
      ],
      "execution_count": null,
      "outputs": [
        {
          "output_type": "stream",
          "text": [
            "--2020-09-11 23:48:30--  https://download.microsoft.com/download/3/E/1/3E1C3F21-ECDB-4869-8368-6DEBA77B919F/kagglecatsanddogs_3367a.zip\n",
            "Resolving download.microsoft.com (download.microsoft.com)... 23.60.72.32, 2600:1409:12:285::e59, 2600:1409:12:2af::e59\n",
            "Connecting to download.microsoft.com (download.microsoft.com)|23.60.72.32|:443... connected.\n",
            "HTTP request sent, awaiting response... 200 OK\n",
            "Length: 824894548 (787M) [application/octet-stream]\n",
            "Saving to: ‘kagglecatsanddogs_3367a.zip’\n",
            "\n",
            "kagglecatsanddogs_3 100%[===================>] 786.68M   118MB/s    in 6.7s    \n",
            "\n",
            "2020-09-11 23:48:37 (118 MB/s) - ‘kagglecatsanddogs_3367a.zip’ saved [824894548/824894548]\n",
            "\n"
          ],
          "name": "stdout"
        }
      ]
    },
    {
      "cell_type": "code",
      "metadata": {
        "id": "B0Z6jPM6kHvv",
        "colab_type": "code",
        "colab": {}
      },
      "source": [
        "!unzip kagglecatsanddogs_3367a.zip"
      ],
      "execution_count": null,
      "outputs": []
    },
    {
      "cell_type": "code",
      "metadata": {
        "id": "eLTdAbkkkmHD",
        "colab_type": "code",
        "colab": {}
      },
      "source": [
        "dataset_path = '/content/PetImages'"
      ],
      "execution_count": null,
      "outputs": []
    },
    {
      "cell_type": "code",
      "metadata": {
        "id": "RhzAfd-HkyCu",
        "colab_type": "code",
        "colab": {}
      },
      "source": [
        "import numpy as np\n",
        "from matplotlib import pyplot as plt\n",
        "import tensorflow as tf\n",
        "from tensorflow import keras\n",
        "from tensorflow.keras import layers"
      ],
      "execution_count": null,
      "outputs": []
    },
    {
      "cell_type": "code",
      "metadata": {
        "id": "ZekyQfAYmAW0",
        "colab_type": "code",
        "colab": {
          "base_uri": "https://localhost:8080/",
          "height": 34
        },
        "outputId": "68954993-2a5b-451d-a553-58b2430442e3"
      },
      "source": [
        "import os\n",
        "\n",
        "num_skipped = 0\n",
        "for folder_name in (\"Cat\", \"Dog\"):\n",
        "    folder_path = os.path.join(\"PetImages\", folder_name)\n",
        "    for fname in os.listdir(folder_path):\n",
        "        fpath = os.path.join(folder_path, fname)\n",
        "        try:\n",
        "            fobj = open(fpath, \"rb\")\n",
        "            is_jfif = tf.compat.as_bytes(\"JFIF\") in fobj.peek(10)\n",
        "        finally:\n",
        "            fobj.close()\n",
        "\n",
        "        if not is_jfif:\n",
        "            num_skipped += 1\n",
        "            # Delete corrupted image\n",
        "            os.remove(fpath)\n",
        "\n",
        "print(f\"Deleted {num_skipped} images because not worth it\")"
      ],
      "execution_count": null,
      "outputs": [
        {
          "output_type": "stream",
          "text": [
            "Deleted 0 images because not worth it\n"
          ],
          "name": "stdout"
        }
      ]
    },
    {
      "cell_type": "code",
      "metadata": {
        "id": "_CTprU2Zk57m",
        "colab_type": "code",
        "colab": {
          "base_uri": "https://localhost:8080/",
          "height": 85
        },
        "outputId": "5f655951-b9e2-44a7-e06f-4a0936a5c21d"
      },
      "source": [
        "image_size = (224, 224)\n",
        "batch_size = 64\n",
        "\n",
        "train_ds = tf.keras.preprocessing.image_dataset_from_directory(\n",
        "    dataset_path,\n",
        "    validation_split=0.2,\n",
        "    subset=\"training\",\n",
        "    seed = 1337,\n",
        "    image_size=image_size,\n",
        "    batch_size=batch_size,\n",
        ")\n",
        "val_ds = tf.keras.preprocessing.image_dataset_from_directory(\n",
        "    dataset_path,\n",
        "    validation_split=0.2,\n",
        "    subset=\"validation\",\n",
        "    seed =1337,\n",
        "    image_size=image_size,\n",
        "    batch_size=batch_size,\n",
        ")"
      ],
      "execution_count": null,
      "outputs": [
        {
          "output_type": "stream",
          "text": [
            "Found 23410 files belonging to 2 classes.\n",
            "Using 18728 files for training.\n",
            "Found 23410 files belonging to 2 classes.\n",
            "Using 4682 files for validation.\n"
          ],
          "name": "stdout"
        }
      ]
    },
    {
      "cell_type": "code",
      "metadata": {
        "id": "MuqwDUcYlx6_",
        "colab_type": "code",
        "colab": {}
      },
      "source": [
        "# Data Augmentation Layer for training\n",
        "\n",
        "data_augmentation_train = keras.Sequential(\n",
        "    [\n",
        "        layers.experimental.preprocessing.RandomFlip(\"horizontal\"),\n",
        "        layers.experimental.preprocessing.RandomRotation(0.1),\n",
        "        layers.experimental.preprocessing.Rescaling(scale =1./255),\n",
        "        layers.experimental.preprocessing.RandomHeight(0.1),\n",
        "        layers.experimental.preprocessing.RandomWidth(0.1)\n",
        "     \n",
        "    ]\n",
        ")\n",
        "\n",
        "# Data Augmentation Layer for testing\n",
        "\n",
        "data_augmentation_test = keras.Sequential(\n",
        "    [\n",
        "        layers.experimental.preprocessing.Rescaling(scale =1./255)\n",
        "     \n",
        "    ]\n",
        ")"
      ],
      "execution_count": null,
      "outputs": []
    },
    {
      "cell_type": "code",
      "metadata": {
        "id": "mVgQN5x6mYOu",
        "colab_type": "code",
        "colab": {}
      },
      "source": [
        "# Map the Data now\n",
        "\n",
        "augmented_train_ds = train_ds.map(\n",
        "    lambda x, y: (data_augmentation_train(x, training=True), y))\n",
        "\n",
        "augmented_val_ds = val_ds.map(\n",
        "    lambda x, y: (data_augmentation_test(x, training=True), y))"
      ],
      "execution_count": null,
      "outputs": []
    },
    {
      "cell_type": "code",
      "metadata": {
        "id": "_hiNaORGmafp",
        "colab_type": "code",
        "colab": {}
      },
      "source": [
        "from tensorflow.keras.applications.inception_v3 import InceptionV3\n",
        "\n",
        "pre_trained_model = InceptionV3(input_shape=(224,224,3), include_top=False, weights='imagenet')\n",
        "\n",
        "for layer in pre_trained_model.layers:\n",
        "    layer.trainable = False"
      ],
      "execution_count": null,
      "outputs": []
    },
    {
      "cell_type": "code",
      "metadata": {
        "id": "N4FLqJMimfAW",
        "colab_type": "code",
        "colab": {}
      },
      "source": [
        "from keras.preprocessing.image import ImageDataGenerator\n",
        "from keras.optimizers import Adam\n",
        "from keras import regularizers"
      ],
      "execution_count": null,
      "outputs": []
    },
    {
      "cell_type": "code",
      "metadata": {
        "id": "gKrKLaM3mkSz",
        "colab_type": "code",
        "colab": {}
      },
      "source": [
        "global_average_layers = tf.keras.layers.GlobalAveragePooling2D()\n",
        "dropouts = tf.keras.layers.Dropout(rate = 0.2)\n",
        "\n",
        "dense_128 = tf.keras.layers.Dense(128)\n",
        "dense_64 = tf.keras.layers.Dense(64)\n",
        "dense_32 = tf.keras.layers.Dense(32)\n",
        "\n",
        "prediction_layer = tf.keras.layers.Dense(1,activation='sigmoid')\n",
        "\n",
        "model_V3 = tf.keras.Sequential([\n",
        "    pre_trained_model,\n",
        "    global_average_layers,\n",
        "    dropouts,\n",
        "    dense_128,\n",
        "    dense_64,\n",
        "    dropouts,\n",
        "    dense_32,\n",
        "    prediction_layer\n",
        "])\n",
        "\n",
        "model_V3.compile(optimizer='adam',\n",
        "              loss='binary_crossentropy',\n",
        "              metrics=['accuracy'])"
      ],
      "execution_count": null,
      "outputs": []
    },
    {
      "cell_type": "code",
      "metadata": {
        "id": "9nxikr6Mmmn_",
        "colab_type": "code",
        "colab": {
          "base_uri": "https://localhost:8080/",
          "height": 391
        },
        "outputId": "f7b00405-2147-4662-8bdb-7cf830a9fae6"
      },
      "source": [
        "model_V3.summary()"
      ],
      "execution_count": null,
      "outputs": [
        {
          "output_type": "stream",
          "text": [
            "Model: \"sequential_2\"\n",
            "_________________________________________________________________\n",
            "Layer (type)                 Output Shape              Param #   \n",
            "=================================================================\n",
            "inception_v3 (Functional)    (None, 5, 5, 2048)        21802784  \n",
            "_________________________________________________________________\n",
            "global_average_pooling2d (Gl (None, 2048)              0         \n",
            "_________________________________________________________________\n",
            "dropout (Dropout)            multiple                  0         \n",
            "_________________________________________________________________\n",
            "dense (Dense)                (None, 128)               262272    \n",
            "_________________________________________________________________\n",
            "dense_1 (Dense)              (None, 64)                8256      \n",
            "_________________________________________________________________\n",
            "dense_2 (Dense)              (None, 32)                2080      \n",
            "_________________________________________________________________\n",
            "dense_3 (Dense)              (None, 1)                 33        \n",
            "=================================================================\n",
            "Total params: 22,075,425\n",
            "Trainable params: 272,641\n",
            "Non-trainable params: 21,802,784\n",
            "_________________________________________________________________\n"
          ],
          "name": "stdout"
        }
      ]
    },
    {
      "cell_type": "code",
      "metadata": {
        "id": "ZdFMceAdmoo7",
        "colab_type": "code",
        "colab": {}
      },
      "source": [
        "# Callbacks\n",
        "from keras.preprocessing.image import ImageDataGenerator\n",
        "from tensorflow.keras.callbacks import ModelCheckpoint, ReduceLROnPlateau, EarlyStopping\n",
        "\n",
        "filepath = \"catvsdogsmodel.h5\"\n",
        "\n",
        "tensorboard_callback = tf.keras.callbacks.TensorBoard(\"logs\")\n",
        "lr_reduce = ReduceLROnPlateau(monitor='val_loss', factor=0.2, patience=3, verbose=2, mode='max')\n",
        "early_stop = EarlyStopping(monitor='val_loss', min_delta=0.1, patience=1, mode='min')\n",
        "checkpoint = ModelCheckpoint(filepath, monitor='val_loss', verbose=1, save_best_only=True, mode='min')\n",
        "\n",
        "callback_list = [tensorboard_callback, lr_reduce, checkpoint, early_stop]"
      ],
      "execution_count": null,
      "outputs": []
    },
    {
      "cell_type": "code",
      "metadata": {
        "id": "DHG0t6IlyziE",
        "colab_type": "code",
        "colab": {}
      },
      "source": [
        "delete_logs = False\n",
        "\n",
        "if delete_logs:\n",
        "    import shutil\n",
        "    shutil.rmtree('logs')\n",
        "else:\n",
        "    print('To delete model logs change delete_logs to True.')\n",
        "    raise UnboundLocalError"
      ],
      "execution_count": null,
      "outputs": []
    },
    {
      "cell_type": "code",
      "metadata": {
        "id": "5Kr9YmNJmrtN",
        "colab_type": "code",
        "colab": {}
      },
      "source": [
        "tf.keras.backend.clear_session()"
      ],
      "execution_count": null,
      "outputs": []
    },
    {
      "cell_type": "code",
      "metadata": {
        "id": "E5DJl1U2mumv",
        "colab_type": "code",
        "colab": {
          "base_uri": "https://localhost:8080/",
          "height": 173
        },
        "outputId": "7b41a099-a188-46d4-c499-39b8e320b467"
      },
      "source": [
        "history = model_V3.fit(\n",
        "           augmented_train_ds,\n",
        "           epochs=6, validation_data=augmented_val_ds, callbacks=callback_list)"
      ],
      "execution_count": null,
      "outputs": [
        {
          "output_type": "stream",
          "text": [
            "Epoch 1/6\n",
            "293/293 [==============================] - ETA: 0s - loss: 0.1275 - accuracy: 0.9627\n",
            "Epoch 00001: val_loss improved from inf to 0.03004, saving model to catvsdogsmodel.h5\n",
            "293/293 [==============================] - 234s 800ms/step - loss: 0.1275 - accuracy: 0.9627 - val_loss: 0.0300 - val_accuracy: 0.9895\n",
            "Epoch 2/6\n",
            "293/293 [==============================] - ETA: 0s - loss: 0.0693 - accuracy: 0.9749\n",
            "Epoch 00002: val_loss did not improve from 0.03004\n",
            "293/293 [==============================] - 202s 689ms/step - loss: 0.0693 - accuracy: 0.9749 - val_loss: 0.0342 - val_accuracy: 0.9891\n"
          ],
          "name": "stdout"
        }
      ]
    }
  ]
}